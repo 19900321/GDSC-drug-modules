{
 "cells": [
  {
   "cell_type": "markdown",
   "metadata": {},
   "source": [
    "# Encircling the regions of the pharmacogenomic landscape that determine drug response"
   ]
  },
  {
   "cell_type": "markdown",
   "metadata": {},
   "source": [
    "In this notebook is detailed the process followed to obtain the Hotnet inputs for the paper *Encircling the pharmacologic regions that determines drug response*."
   ]
  },
  {
   "cell_type": "markdown",
   "metadata": {},
   "source": [
    "*Required packages*\n",
    "- pandas\n",
    "- numpy\n",
    "- scipy\n",
    "- h5py\n",
    "- networkx\n",
    "- tqdm"
   ]
  },
  {
   "cell_type": "code",
   "execution_count": null,
   "metadata": {},
   "outputs": [],
   "source": [
    "import sys\n",
    "sys.path.insert(0, '../src')\n",
    "import numpy as np\n",
    "import pandas as pd\n",
    "from tqdm import tqdm \n",
    "from scipy import stats\n",
    "import scripts as src"
   ]
  },
  {
   "cell_type": "markdown",
   "metadata": {},
   "source": [
    "## Reading drug sensitivity and gene expression data"
   ]
  },
  {
   "cell_type": "code",
   "execution_count": null,
   "metadata": {},
   "outputs": [],
   "source": [
    "drug_df = pd.read_csv('../data/gdsc_aoc.tsv',sep='\\t',index_col= 0)\n",
    "expr_df = pd.read_csv('../data/gdsc_gex.tsv',sep='\\t',index_col= 0)"
   ]
  },
  {
   "cell_type": "markdown",
   "metadata": {},
   "source": [
    "## Getting drug-gene correlations"
   ]
  },
  {
   "cell_type": "code",
   "execution_count": null,
   "metadata": {},
   "outputs": [],
   "source": [
    "corr_df = src.get_correlations(expr_df,drug_df)\n"
   ]
  },
  {
   "cell_type": "markdown",
   "metadata": {},
   "source": [
    "## Getting signigicant drug-gene pairs"
   ]
  },
  {
   "cell_type": "markdown",
   "metadata": {},
   "source": [
    "Finding z-corr cutoff that leaves 0.05 proportion of correlations in the tails"
   ]
  },
  {
   "cell_type": "code",
   "execution_count": null,
   "metadata": {},
   "outputs": [],
   "source": [
    "zscore_cutoff = np.mean(src.find_zscore_cutoff(corr_df))"
   ]
  },
  {
   "cell_type": "markdown",
   "metadata": {},
   "source": [
    "Getting significant correlations for each drug"
   ]
  },
  {
   "cell_type": "code",
   "execution_count": null,
   "metadata": {},
   "outputs": [],
   "source": [
    "up_genes,dw_genes = src.get_drug2gene_correlations(corr_df,zscore_cutoff)"
   ]
  },
  {
   "cell_type": "markdown",
   "metadata": {},
   "source": [
    "## Finding Frequently Correlated Genes (FCG)"
   ]
  },
  {
   "cell_type": "code",
   "execution_count": null,
   "metadata": {},
   "outputs": [],
   "source": [
    "up_fcg = src.get_fcg(corr_df,up_genes)\n",
    "dw_fcg = src.get_fcg(corr_df,dw_genes) "
   ]
  },
  {
   "cell_type": "markdown",
   "metadata": {},
   "source": [
    "## Computing Reactome enrichments"
   ]
  },
  {
   "cell_type": "markdown",
   "metadata": {},
   "source": [
    "**This script can be slow. Please, consider using multiprocessing**"
   ]
  },
  {
   "cell_type": "markdown",
   "metadata": {},
   "source": [
    "1. Running Rectome GSEA for each drug"
   ]
  },
  {
   "cell_type": "code",
   "execution_count": null,
   "metadata": {
    "scrolled": true
   },
   "outputs": [],
   "source": [
    "#Getting reactome\n",
    "reactome_genesets =src.get_reactome_genesets()\n",
    "\n",
    "#Getting reactome universe\n",
    "react_univ = set([y for x in reactome_genesets.values() for y in x])\n",
    "\n",
    "#Getting final universe: GDSC & reactome\n",
    "the_universe = react_univ & src.map_and_return_universe(corr_df.columns,src.get_ensbl2uniAC())\n",
    "\n",
    "#Getting reactome genesets in the universe\n",
    "reactome_genesets = {r:reactome_genesets[r]&the_universe for r in reactome_genesets}\n",
    "\n",
    "#Mapping ensemble to uniprot\n",
    "mapped_corr_df = src.map_corr_df_to_uniprot(corr_df,the_universe)\n",
    "\n",
    "#Iterating across drugs\n",
    "for drug in tqdm(mapped_corr_df.index.values):\n",
    "    output_path = '../results/reactome_gsea/%s.tsv'%drug\n",
    "    matrix = list(zip(mapped_corr_df.columns,mapped_corr_df.loc[drug]))\n",
    "    sorted_matrix = sorted([[str(x[0]),float(x[1])] for x in matrix], key=lambda x: x[1], reverse=True)\n",
    "    \n",
    "    #Running GSEA\n",
    "    src.run_gsea(sorted_matrix,reactome_genesets,output_path)\n"
   ]
  },
  {
   "cell_type": "markdown",
   "metadata": {},
   "source": [
    "## Getting HotNet input files"
   ]
  },
  {
   "cell_type": "markdown",
   "metadata": {},
   "source": [
    "1.Removing FCG from the correlations"
   ]
  },
  {
   "cell_type": "code",
   "execution_count": null,
   "metadata": {},
   "outputs": [],
   "source": [
    "up_genes_noFCG,dw_genes_noFCG = {},{}\n",
    "\n",
    "for drug,genes in up_genes.items():\n",
    "    genes = genes.difference(up_fcg)\n",
    "    up_genes_noFCG[drug] = genes\n",
    "    \n",
    "for drug,genes in dw_genes.items():\n",
    "    genes = genes.difference(dw_fcg)\n",
    "    dw_genes_noFCG[drug] = genes"
   ]
  },
  {
   "cell_type": "markdown",
   "metadata": {},
   "source": [
    "2.Getting significantly enriched pathways for each drug"
   ]
  },
  {
   "cell_type": "code",
   "execution_count": null,
   "metadata": {},
   "outputs": [],
   "source": [
    "drug2pwy = src.get_drug2pwy()"
   ]
  },
  {
   "cell_type": "markdown",
   "metadata": {},
   "source": [
    "3.Reading string network and reactome genesets"
   ]
  },
  {
   "cell_type": "code",
   "execution_count": null,
   "metadata": {},
   "outputs": [],
   "source": [
    "string = set([])\n",
    "with open('../data/string/interactions.tsv','r') as f:\n",
    "    for l in f:\n",
    "        string.update(l.rstrip().split('\\t'))\n",
    "        \n",
    "reactome_genesets = src.get_reactome_genesets()"
   ]
  },
  {
   "cell_type": "markdown",
   "metadata": {},
   "source": [
    "4.Writing HotNet inputs"
   ]
  },
  {
   "cell_type": "code",
   "execution_count": null,
   "metadata": {},
   "outputs": [],
   "source": [
    "#--up\n",
    "output_path = '../data/hotnet_input/PCM/'\n",
    "src.write_hotnet_inputs(up_genes_noFCG,corr_df,drug2pwy,reactome_genesets,string,output_path)\n",
    "\n",
    "#--dw\n",
    "output_path = '../data/hotnet_input/NCM/'\n",
    "src.write_hotnet_inputs(dw_genes_noFCG,corr_df,drug2pwy,reactome_genesets,string,output_path) "
   ]
  },
  {
   "cell_type": "markdown",
   "metadata": {},
   "source": [
    "## Running HotNet"
   ]
  },
  {
   "cell_type": "markdown",
   "metadata": {},
   "source": [
    "**This script can be slow. Please, consider using multiprocessing**"
   ]
  },
  {
   "cell_type": "code",
   "execution_count": null,
   "metadata": {},
   "outputs": [],
   "source": [
    "drugs = drug_df.columns\n",
    "for direction in ['PCM','NCM']:\n",
    "    for drug in tqdm(drugs,desc='%s'%direction):\n",
    "        output = '../results/hotnet/%s/%s/'%(direction,drug)\n",
    "        src.run_iteratively_hotnet('../data/hotnet_input/%s/%s.tsv'%(direction,drug),output)\n",
    "       "
   ]
  },
  {
   "cell_type": "code",
   "execution_count": null,
   "metadata": {},
   "outputs": [],
   "source": []
  },
  {
   "cell_type": "markdown",
   "metadata": {},
   "source": [
    "## Running Diamond"
   ]
  },
  {
   "cell_type": "markdown",
   "metadata": {},
   "source": [
    "**This script can be slow. Please, consider using multiprocessing**"
   ]
  },
  {
   "cell_type": "code",
   "execution_count": null,
   "metadata": {
    "scrolled": true
   },
   "outputs": [],
   "source": [
    "drugs = drug_df.columns\n",
    "\n",
    "for direction in ['PCM','NCM']:\n",
    "    module_path = '../results/hotnet/%s/'%direction\n",
    "    for drug in tqdm(drugs,desc='%s'%direction):\n",
    "        output = '../results/diamond/%s/'%direction\n",
    "        src.run_diamond(module_path,output,sample=drug)\n",
    "       "
   ]
  },
  {
   "cell_type": "markdown",
   "metadata": {},
   "source": [
    "## Getting final modules"
   ]
  },
  {
   "cell_type": "code",
   "execution_count": null,
   "metadata": {},
   "outputs": [],
   "source": [
    "#Getting modules\n",
    "pcm = src.retrieve_iter_hotnet('../results/hotnet/PCM')\n",
    "ncm = src.retrieve_iter_hotnet('../results/hotnet/NCM')\n",
    "\n",
    "#Getting alpha list\n",
    "diamond_pcm = src.read_diamond_res('../results/diamond/PCM/')\n",
    "diamond_ncm = src.read_diamond_res('../results/diamond/NCM/')\n",
    "\n",
    "#Getting new modules\n",
    "final_pcm = src.add_diamond_genes(pcm,diamond_pcm,up_genes)\n",
    "final_ncm = src.add_diamond_genes(ncm,diamond_ncm,dw_genes)\n",
    "\n",
    "#Writing final modules\n",
    "outpath = '../results/final_modules/'\n",
    "\n",
    "# --PCM\n",
    "with open(outpath+'/PCM.gmt','w') as o:\n",
    "    for drug in sorted(final_pcm):\n",
    "        for ix,md in enumerate(final_pcm[drug]):\n",
    "            if ix == 0:\n",
    "                o.write('%s\\tna\\t'%drug+'\\t'.join(md)+'\\n')\n",
    "            elif ix == 1:\n",
    "                o.write('%s_md2\\tmodule_2\\t'%drug+'\\t'.join(md)+'\\n')\n",
    "                \n",
    "# --NCM\n",
    "with open(outpath+'/NCM.gmt','w') as o:\n",
    "    for drug in sorted(final_ncm):\n",
    "        for ix,md in enumerate(final_ncm[drug]):\n",
    "            if ix == 0:\n",
    "                o.write('%s\\tna\\t'%drug+'\\t'.join(md)+'\\n')\n",
    "            elif ix == 1:\n",
    "                o.write('%s_md2\\tmodule_2\\t'%drug+'\\t'.join(md)+'\\n')"
   ]
  }
 ],
 "metadata": {
  "kernelspec": {
   "display_name": "Python 3",
   "language": "python",
   "name": "python3"
  },
  "language_info": {
   "codemirror_mode": {
    "name": "ipython",
    "version": 3
   },
   "file_extension": ".py",
   "mimetype": "text/x-python",
   "name": "python",
   "nbconvert_exporter": "python",
   "pygments_lexer": "ipython3",
   "version": "3.5.2"
  }
 },
 "nbformat": 4,
 "nbformat_minor": 2
}
